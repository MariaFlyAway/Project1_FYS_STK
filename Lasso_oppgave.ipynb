{
 "cells": [
  {
   "cell_type": "code",
   "execution_count": null,
   "metadata": {},
   "outputs": [],
   "source": [
    "import numpy as np\n",
    "import seaborn as sns\n",
    "\n",
    "from mpl_toolkits.mplot3d import Axes3D\n",
    "import matplotlib.pyplot as plt\n",
    "from matplotlib import cm\n",
    "from matplotlib.ticker import LinearLocator, FormatStrFormatter\n",
    "from random import random, seed\n",
    "from sklearn.metrics import mean_squared_error, r2_score\n",
    "from sklearn.model_selection import train_test_split\n",
    "\n",
    "from sklearn.pipeline import make_pipeline\n",
    "from sklearn.linear_model import Lasso, LinearRegression\n",
    "from sklearn.preprocessing import PolynomialFeatures, StandardScaler"
   ]
  },
  {
   "cell_type": "code",
   "execution_count": 1,
   "metadata": {},
   "outputs": [
    {
     "ename": "NameError",
     "evalue": "name 'np' is not defined",
     "output_type": "error",
     "traceback": [
      "\u001b[1;31m---------------------------------------------------------------------------\u001b[0m",
      "\u001b[1;31mNameError\u001b[0m                                 Traceback (most recent call last)",
      "Cell \u001b[1;32mIn[1], line 3\u001b[0m\n\u001b[0;32m      1\u001b[0m \u001b[38;5;66;03m# Make data.\u001b[39;00m\n\u001b[0;32m      2\u001b[0m n \u001b[38;5;241m=\u001b[39m \u001b[38;5;241m100\u001b[39m\n\u001b[1;32m----> 3\u001b[0m x \u001b[38;5;241m=\u001b[39m np\u001b[38;5;241m.\u001b[39mlinspace(\u001b[38;5;241m0\u001b[39m, \u001b[38;5;241m1\u001b[39m, n)\n\u001b[0;32m      4\u001b[0m y \u001b[38;5;241m=\u001b[39m np\u001b[38;5;241m.\u001b[39mlinspace(\u001b[38;5;241m0\u001b[39m, \u001b[38;5;241m1\u001b[39m, n)\n\u001b[0;32m      5\u001b[0m x, y \u001b[38;5;241m=\u001b[39m np\u001b[38;5;241m.\u001b[39mmeshgrid(x,y)\n",
      "\u001b[1;31mNameError\u001b[0m: name 'np' is not defined"
     ]
    }
   ],
   "source": [
    "# Make data.\n",
    "n = 100\n",
    "x = np.linspace(0, 1, n)\n",
    "y = np.linspace(0, 1, n)\n",
    "x, y = np.meshgrid(x,y)\n",
    "\n",
    "x = x.ravel()\n",
    "y = y.ravel()\n",
    "\n",
    "def FrankeFunction(x,y):\n",
    "    term1 = 0.75*np.exp(-(0.25*(9*x-2)**2) - 0.25*((9*y-2)**2))\n",
    "    term2 = 0.75*np.exp(-((9*x+1)**2)/49.0 - 0.1*(9*y+1))\n",
    "    term3 = 0.5*np.exp(-(9*x-7)**2/4.0 - 0.25*((9*y-3)**2))\n",
    "    term4 = -0.2*np.exp(-(9*x-4)**2 - (9*y-7)**2)\n",
    "    return term1 + term2 + term3 + term4\n",
    "\n",
    "\n",
    "z = FrankeFunction(x, y)\n",
    "\n",
    "MSE = np.zeros(3)\n",
    "for ex_p in [0,1,2,3,4,5]:\n",
    "    # we stack the values of x and y beside each other\n",
    "    X = np.column_stack((x,y))\n",
    "\n",
    "    # we use pipeline to fit our model\n",
    "    pipeline = make_pipeline(\n",
    "        PolynomialFeatures(degree=ex_p),\n",
    "        StandardScaler(),\n",
    "        Lasso(1e-4))\n",
    "\n",
    "    pipeline.fit(X,z)\n",
    "    z_predict = pipeline.predict(X)\n",
    "\n",
    "    MSE[ex_p//5-1] = mean_squared_error(z_predict, z)\n",
    "\n",
    "    x_plot = x.reshape((n, n))\n",
    "    y_plot = y.reshape((n, n))\n",
    "    z_plot = z.reshape((n, n))\n",
    "    z_pred_plot = z_predict.reshape((n, n))\n",
    "\n",
    "\n",
    "    fig = plt.figure(figsize=(12, 6))\n",
    "\n",
    "    # Plotting the Franke function\n",
    "    ax = fig.add_subplot(121, projection='3d')\n",
    "    ax.plot_surface(x_plot, y_plot, z_plot, cmap='viridis', edgecolor='none')\n",
    "    ax.set_title('Franke Function')\n",
    "\n",
    "    # Plot the polynomial regression prediction\n",
    "    ax = fig.add_subplot(122, projection='3d')\n",
    "    ax.plot_surface(x_plot, y_plot, z_pred_plot, cmap='viridis', edgecolor='none')\n",
    "    ax.set_title('Lasso Prediction')\n",
    "\n",
    "    plt.show()\n",
    "\n",
    "print(MSE)"
   ]
  }
 ],
 "metadata": {
  "kernelspec": {
   "display_name": "fysstk3155",
   "language": "python",
   "name": "python3"
  },
  "language_info": {
   "codemirror_mode": {
    "name": "ipython",
    "version": 3
   },
   "file_extension": ".py",
   "mimetype": "text/x-python",
   "name": "python",
   "nbconvert_exporter": "python",
   "pygments_lexer": "ipython3",
   "version": "3.12.3"
  }
 },
 "nbformat": 4,
 "nbformat_minor": 2
}
