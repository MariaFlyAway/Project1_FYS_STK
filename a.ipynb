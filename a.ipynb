{
 "cells": [
  {
   "cell_type": "markdown",
   "metadata": {},
   "source": [
    "# Part a) - Ordinary least squares on Franke's function"
   ]
  },
  {
   "cell_type": "code",
   "execution_count": 3,
   "metadata": {},
   "outputs": [],
   "source": [
    "import numpy as np\n",
    "\n",
    "import matplotlib.pyplot as plt\n",
    "from matplotlib import cm\n",
    "from matplotlib.ticker import LinearLocator, FormatStrFormatter\n",
    "from mpl_toolkits.mplot3d import Axes3D\n",
    "import seaborn as sns\n",
    "\n",
    "from sklearn.preprocessing import PolynomialFeatures\n",
    "from sklearn.metrics import mean_squared_error, r2_score\n",
    "from sklearn.model_selection import train_test_split\n",
    "\n",
    "sns.set_theme(style='whitegrid')\n",
    "np.random.seed(42)"
   ]
  },
  {
   "cell_type": "code",
   "execution_count": 4,
   "metadata": {},
   "outputs": [],
   "source": [
    "def FrankeFunction(x,y): # from project description\n",
    "    term1 = 0.75*np.exp(-(0.25*(9*x-2)**2) - 0.25*((9*y-2)**2))\n",
    "    term2 = 0.75*np.exp(-((9*x+1)**2)/49.0 - 0.1*(9*y+1))\n",
    "    term3 = 0.5*np.exp(-(9*x-7)**2/4.0 - 0.25*((9*y-3)**2))\n",
    "    term4 = -0.2*np.exp(-(9*x-4)**2 - (9*y-7)**2)\n",
    "    return term1 + term2 + term3 + term4"
   ]
  },
  {
   "cell_type": "code",
   "execution_count": 49,
   "metadata": {},
   "outputs": [],
   "source": [
    "def polynomial_matrix_2D(x, y, p, no_intercept=True):\n",
    "\t\"\"\"Variables x and y, degree p\"\"\"\n",
    "\tN = len(x) # number of data points\n",
    "\tl = int((p+1)*(p+2)/2) # number of elements in beta\n",
    "\tX = np.ones((N,l-no_intercept))\n",
    "\n",
    "\tidx = int(not no_intercept)\n",
    "\tfor degree in range(1,p+1):\n",
    "\t\tfor ydegree in range(degree+1):\n",
    "\t\t\tX[:, idx] = (x**(degree - ydegree)) * (y**ydegree)\n",
    "\t\t\tidx += 1\n",
    "\t\t\n",
    "\treturn X"
   ]
  },
  {
   "cell_type": "code",
   "execution_count": 52,
   "metadata": {},
   "outputs": [
    {
     "name": "stderr",
     "output_type": "stream",
     "text": [
      "c:\\Users\\jonas\\anaconda3\\envs\\fysstk3155\\Lib\\site-packages\\sklearn\\metrics\\_regression.py:1211: UndefinedMetricWarning: R^2 score is not well-defined with less than two samples.\n",
      "  warnings.warn(msg, UndefinedMetricWarning)\n"
     ]
    },
    {
     "ename": "ValueError",
     "evalue": "could not broadcast input array from shape (0,) into shape (1,)",
     "output_type": "error",
     "traceback": [
      "\u001b[1;31m---------------------------------------------------------------------------\u001b[0m",
      "\u001b[1;31mValueError\u001b[0m                                Traceback (most recent call last)",
      "Cell \u001b[1;32mIn[52], line 45\u001b[0m\n\u001b[0;32m     42\u001b[0m R2_OLS_train[i] \u001b[38;5;241m=\u001b[39m r2_score(y_tilde_OLS, y_train)\n\u001b[0;32m     43\u001b[0m R2_OLS_test[i] \u001b[38;5;241m=\u001b[39m r2_score(y_predict_OLS, y_test)\n\u001b[1;32m---> 45\u001b[0m beta_values[i,:i\u001b[38;5;241m+\u001b[39m\u001b[38;5;241m1\u001b[39m] \u001b[38;5;241m=\u001b[39m beta_OLS\u001b[38;5;241m.\u001b[39mT\n",
      "\u001b[1;31mValueError\u001b[0m: could not broadcast input array from shape (0,) into shape (1,)"
     ]
    }
   ],
   "source": [
    "# Generating dataset\n",
    "n = 5 # number of datapoints\n",
    "x,y = np.ones(n)*2, np.ones(n)*3 # for testing\n",
    "#x, y = np.random.rand(n), np.random.rand(n) # input to Franke's function\n",
    "k = 0 # noise coefficient\n",
    "z = FrankeFunction(x,y) + k*np.random.randn(n) # target variable with standard normal noise\n",
    "\n",
    "\n",
    "# Creating design matrix\n",
    "p = 6 # highest polynomial degree\n",
    "l = int((p+1)*(p+2)/2) # longest beta\n",
    "numbers = np.arange(p) # for looping and plotting later\n",
    "\n",
    "MSE_OLS_train, MSE_OLS_test = np.zeros(p), np.zeros(p)\n",
    "R2_OLS_train, R2_OLS_test = np.zeros(p), np.zeros(p)\n",
    "beta_values = np.zeros((l,l))\n",
    "\n",
    "for i in numbers:\n",
    "    # Constructing the design matrix\n",
    "    X = polynomial_matrix_2D(x, y, i, no_intercept=True) # degree i+1, no intercept\n",
    "\n",
    "    # Splitting the data\n",
    "    X_train, X_test, y_train, y_test = train_test_split(X, y, test_size=0.2, random_state=3)\n",
    "\n",
    "    # Scaling the data (only centering)\n",
    "    X_train_mean = np.mean(X_train, axis=0) # 1D array of each column mean\n",
    "    X_train_centered = X_train - X_train_mean\n",
    "    X_test_centered = X_test - X_train_mean # centering with training data\n",
    "\n",
    "    y_train_mean = np.mean(y_train)\n",
    "    y_train_centered = y_train - y_train_mean\n",
    "\n",
    "\n",
    "    # solving OLS\n",
    "    beta_OLS = np.linalg.inv(X_train_centered.T @ X_train_centered) @ X_train_centered.T @ y_train_centered\n",
    "\n",
    "    y_tilde_OLS = X_train_centered @ beta_OLS + y_train_mean # predictor on training data\n",
    "    y_predict_OLS = X_test_centered @ beta_OLS + y_train_mean # predictor on test data\n",
    "\n",
    "    MSE_OLS_train[i] = mean_squared_error(y_tilde_OLS, y_train)\n",
    "    MSE_OLS_test[i] = mean_squared_error(y_predict_OLS, y_test)\n",
    "    R2_OLS_train[i] = r2_score(y_tilde_OLS, y_train)\n",
    "    R2_OLS_test[i] = r2_score(y_predict_OLS, y_test)\n",
    "\n",
    "    beta_values[i,:i+1] = beta_OLS.T\n"
   ]
  },
  {
   "cell_type": "code",
   "execution_count": 14,
   "metadata": {},
   "outputs": [
    {
     "data": {
      "text/plain": [
       "array([0.95486528, 0.73789692, 0.55435405, 0.61172075, 0.41960006,\n",
       "       0.24773099, 0.35597268, 0.75784611, 0.01439349, 0.11607264,\n",
       "       0.04600264, 0.0407288 , 0.85546058, 0.70365786, 0.47417383,\n",
       "       0.09783416, 0.49161588, 0.47347177, 0.17320187, 0.43385165,\n",
       "       0.39850473, 0.6158501 , 0.63509365, 0.04530401, 0.37461261,\n",
       "       0.62585992, 0.50313626, 0.85648984, 0.65869363, 0.16293443,\n",
       "       0.07056875, 0.64241928, 0.02651131, 0.58577558, 0.94023024,\n",
       "       0.57547418, 0.38816993, 0.64328822, 0.45825289, 0.54561679,\n",
       "       0.94146481, 0.38610264, 0.96119056, 0.90535064, 0.19579113,\n",
       "       0.0693613 , 0.100778  , 0.01822183, 0.09444296, 0.68300677,\n",
       "       0.07118865, 0.31897563, 0.84487531, 0.02327194, 0.81446848,\n",
       "       0.28185477, 0.11816483, 0.69673717, 0.62894285, 0.87747201,\n",
       "       0.73507104, 0.80348093, 0.28203457, 0.17743954, 0.75061475,\n",
       "       0.80683474, 0.99050514, 0.41261768, 0.37201809, 0.77641296,\n",
       "       0.34080354, 0.93075733, 0.85841275, 0.42899403, 0.75087107,\n",
       "       0.75454287, 0.10312387, 0.90255291, 0.50525237, 0.82645747,\n",
       "       0.3200496 , 0.89552323, 0.38920168, 0.01083765, 0.90538198,\n",
       "       0.09128668, 0.31931364, 0.95006197, 0.95060715, 0.57343789,\n",
       "       0.63183721, 0.44844552, 0.29321077, 0.32866455, 0.67251846,\n",
       "       0.75237453, 0.79157904, 0.78961814, 0.0912061 , 0.4944203 ])"
      ]
     },
     "execution_count": 14,
     "metadata": {},
     "output_type": "execute_result"
    }
   ],
   "source": []
  }
 ],
 "metadata": {
  "kernelspec": {
   "display_name": "fysstk3155",
   "language": "python",
   "name": "python3"
  },
  "language_info": {
   "codemirror_mode": {
    "name": "ipython",
    "version": 3
   },
   "file_extension": ".py",
   "mimetype": "text/x-python",
   "name": "python",
   "nbconvert_exporter": "python",
   "pygments_lexer": "ipython3",
   "version": "3.12.4"
  }
 },
 "nbformat": 4,
 "nbformat_minor": 2
}
