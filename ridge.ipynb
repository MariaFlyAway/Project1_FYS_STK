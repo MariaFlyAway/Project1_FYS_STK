{
 "cells": [
  {
   "cell_type": "code",
   "execution_count": 1,
   "metadata": {},
   "outputs": [],
   "source": [
    "import numpy as np\n",
    "\n",
    "import matplotlib.pyplot as plt\n",
    "from matplotlib import cm\n",
    "from matplotlib.ticker import LinearLocator, FormatStrFormatter\n",
    "from mpl_toolkits.mplot3d import Axes3D\n",
    "import seaborn as sns\n",
    "\n",
    "from sklearn.preprocessing import PolynomialFeatures\n",
    "from sklearn.metrics import mean_squared_error, r2_score\n",
    "from sklearn.model_selection import train_test_split\n",
    "\n",
    "sns.set_theme(style='whitegrid')\n",
    "np.random.seed(42)"
   ]
  },
  {
   "cell_type": "code",
   "execution_count": 2,
   "metadata": {},
   "outputs": [],
   "source": [
    "def FrankeFunction(x,y): # from project description\n",
    "    term1 = 0.75*np.exp(-(0.25*(9*x-2)**2) - 0.25*((9*y-2)**2))\n",
    "    term2 = 0.75*np.exp(-((9*x+1)**2)/49.0 - 0.1*(9*y+1))\n",
    "    term3 = 0.5*np.exp(-(9*x-7)**2/4.0 - 0.25*((9*y-3)**2))\n",
    "    term4 = -0.2*np.exp(-(9*x-4)**2 - (9*y-7)**2)\n",
    "    return term1 + term2 + term3 + term4"
   ]
  },
  {
   "cell_type": "code",
   "execution_count": 3,
   "metadata": {},
   "outputs": [],
   "source": [
    "def polynomial_matrix_2D(x, y, p, no_intercept=True):\n",
    "\t\"\"\"Variables x and y, degree p\"\"\"\n",
    "\tn = len(x) # number of data points\n",
    "\tif p == 0: return np.ones((n,1))\n",
    "\n",
    "\tl = int((p+1)*(p+2)/2) # number of elements in beta\n",
    "\tX = np.zeros((n,l-no_intercept))\n",
    "\n",
    "\tidx = int(not no_intercept)\n",
    "\tfor degree in range(1,p+1):\n",
    "\t\tfor ydegree in range(degree+1):\n",
    "\t\t\tX[:, idx] = (x**(degree - ydegree)) * (y**ydegree)\n",
    "\t\t\tidx += 1\n",
    "\t\t\n",
    "\treturn X"
   ]
  },
  {
   "cell_type": "code",
   "execution_count": null,
   "metadata": {},
   "outputs": [],
   "source": [
    "# Generating dataset\n",
    "n = 100 # the square root of the number of datapoints\n",
    "x, y = np.linspace(0,1,n), np.linspace(0,1,n)\n",
    "x, y = np.meshgrid(x, y)\n",
    "x = x.ravel()\n",
    "y = y.ravel()\n",
    "\n",
    "k = .1 # noise coefficient\n",
    "z = FrankeFunction(x,y) + k*np.random.randn(n**2) # target variable with standard normal noise\n",
    "\n",
    "# Creating design matrix\n",
    "p = 5 # highest polynomial degree (should be low since sparse dataset means high risk of overfitting?)\n",
    "l = int((p+1)*(p+2)/2) # longest beta\n",
    "N = np.arange(p+1) # for looping and plotting later\n",
    "\n",
    "MSE_OLS_train, MSE_OLS_test = np.zeros(p), np.zeros(p)\n",
    "R2_OLS_train, R2_OLS_test = np.zeros(p), np.zeros(p)\n",
    "beta_values = np.zeros((p+1,l))\n",
    "\n",
    "for i in N:\n",
    "    # Constructing the design matrix\n",
    "    X = polynomial_matrix_2D(x, y, i, no_intercept=True) # degree i, no intercept\n",
    "\n",
    "    # Splitting the data (note that y_... has nothing to do with y)\n",
    "    X_train, X_test, y_train, y_test = train_test_split(X, z, test_size=0.2, random_state=3)\n",
    "\n",
    "    # Scaling the data (only centering)\n",
    "    y_train_mean = np.mean(y_train)\n",
    "    y_train_centered = y_train - y_train_mean\n",
    "    intercept = y_train_mean # recovering intercept, which is just y_train_mean due to centering\n",
    "\n",
    "    if i == 0: beta_values[0,0] = intercept; continue # degree 0 case\n",
    "\n",
    "    X_train_mean = np.mean(X_train, axis=0) # 1D array of each column mean\n",
    "    X_train_centered = X_train - X_train_mean\n",
    "    X_test_centered = X_test - X_train_mean # centering with training data\n",
    "\n",
    "    # Solving OLS\n",
    "    beta_OLS = np.linalg.inv(X_train_centered.T @ X_train_centered) @ X_train_centered.T @ y_train_centered\n",
    "\n",
    "    y_tilde_OLS = X_train_centered @ beta_OLS + intercept # predictor on training data\n",
    "    y_predict_OLS = X_test_centered @ beta_OLS + intercept # predictor on test data\n",
    "\n",
    "    MSE_OLS_train[i-1] = mean_squared_error(y_tilde_OLS, y_train)\n",
    "    MSE_OLS_test[i-1] = mean_squared_error(y_predict_OLS, y_test)\n",
    "    R2_OLS_train[i-1] = r2_score(y_tilde_OLS, y_train)\n",
    "    R2_OLS_test[i-1] = r2_score(y_predict_OLS, y_test)\n",
    "\n",
    "    beta_values[i,0] = intercept\n",
    "    beta_values[i,1:len(beta_OLS)+1] = beta_OLS.T"
   ]
  }
 ],
 "metadata": {
  "kernelspec": {
   "display_name": "fysstk3155",
   "language": "python",
   "name": "python3"
  },
  "language_info": {
   "codemirror_mode": {
    "name": "ipython",
    "version": 3
   },
   "file_extension": ".py",
   "mimetype": "text/x-python",
   "name": "python",
   "nbconvert_exporter": "python",
   "pygments_lexer": "ipython3",
   "version": "3.12.4"
  }
 },
 "nbformat": 4,
 "nbformat_minor": 2
}
