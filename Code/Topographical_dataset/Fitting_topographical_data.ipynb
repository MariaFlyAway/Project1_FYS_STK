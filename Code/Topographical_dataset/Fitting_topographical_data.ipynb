{
 "cells": [
  {
   "cell_type": "code",
   "execution_count": 1,
   "metadata": {},
   "outputs": [],
   "source": [
    "# --- Imports\n",
    "import numpy as np\n",
    "import pandas as pd\n",
    "from sklearn.utils import resample\n",
    "from sklearn.metrics import mean_squared_error, r2_score\n",
    "from sklearn.model_selection import train_test_split, cross_val_score, KFold\n",
    "\n",
    "# Plotting\n",
    "import matplotlib.pyplot as plt\n",
    "import seaborn as sns\n",
    "\n",
    "# Model imports\n",
    "from sklearn.pipeline import make_pipeline\n",
    "from sklearn.linear_model import Lasso, Ridge, LinearRegression\n",
    "from sklearn.preprocessing import PolynomialFeatures, StandardScaler\n",
    "\n",
    "# --- Settings\n",
    "sns.set_theme(style='whitegrid')\n",
    "np.random.seed(42)"
   ]
  },
  {
   "cell_type": "markdown",
   "metadata": {},
   "source": [
    "The code below is based on the code given in the Jupyter notebook found at: https://compphysics.github.io/MachineLearning/doc/LectureNotes/_build/html/chapter3.html#introduction"
   ]
  },
  {
   "cell_type": "code",
   "execution_count": 2,
   "metadata": {},
   "outputs": [],
   "source": [
    "def bootstrap(n, X_train, X_test, z_train, z_test, pipeline): # as in lecture notes\n",
    "    z_pred = np.empty((z_test.shape[0], n))\n",
    "    for i in range(n):\n",
    "        x_, y_ = resample(X_train, z_train) # bootstrap from sklearn.utils\n",
    "\n",
    "        # Evaluate the new model on the same test data each time\n",
    "        z_pred[:, i] = pipeline.fit(x_, y_).predict(X_test).ravel()\n",
    "\n",
    "    return z_pred"
   ]
  },
  {
   "cell_type": "markdown",
   "metadata": {},
   "source": [
    "We load in the data and create a meshgrid of points used for predicting the values"
   ]
  },
  {
   "cell_type": "code",
   "execution_count": 3,
   "metadata": {},
   "outputs": [],
   "source": [
    "# loading a numpy-array containing the topological data\n",
    "z = np.load('topographical_data.npy')[4650:4900, 800:1050]\n",
    "\n",
    "# --- Generating dataset\n",
    "n = 250 # the square root of the number of datapoints\n",
    "x, y = np.linspace(0,n,n), np.linspace(0, n, n)\n",
    "x, y = np.meshgrid(x, y)\n",
    "x = x.ravel()\n",
    "y = y.ravel()\n",
    "\n",
    "z = z.ravel()"
   ]
  },
  {
   "cell_type": "markdown",
   "metadata": {},
   "source": [
    "## OLS"
   ]
  },
  {
   "cell_type": "markdown",
   "metadata": {},
   "source": [
    "We estimate the MSE with k-fold cross validation using `cross_val_score` and calculate the error, bias and variance using bootstrapping. The MSE for the test dataset is also calculated."
   ]
  },
  {
   "cell_type": "code",
   "execution_count": 4,
   "metadata": {},
   "outputs": [
    {
     "name": "stdout",
     "output_type": "stream",
     "text": [
      "The k-fold estimated MSE is 12256.6898. The real MSE on the test data was 12346.7543\n",
      "The error, squared bias and variance of OLS (degree 1) is 12347.2681 >= 12346.6233 + 0.6448, respectively.\n",
      "--------------------------------------------------\n",
      "The k-fold estimated MSE is 5719.7272. The real MSE on the test data was 5689.9183\n",
      "The error, squared bias and variance of OLS (degree 2) is 5690.3095 >= 5689.7521 + 0.5574, respectively.\n",
      "--------------------------------------------------\n",
      "The k-fold estimated MSE is 3794.6241. The real MSE on the test data was 3751.2198\n",
      "The error, squared bias and variance of OLS (degree 3) is 3752.0972 >= 3751.3341 + 0.7631, respectively.\n",
      "--------------------------------------------------\n",
      "The k-fold estimated MSE is 3505.0855. The real MSE on the test data was 3480.3613\n",
      "The error, squared bias and variance of OLS (degree 4) is 3481.1362 >= 3480.2775 + 0.8587, respectively.\n",
      "--------------------------------------------------\n",
      "The k-fold estimated MSE is 1878.8688. The real MSE on the test data was 1862.0418\n",
      "The error, squared bias and variance of OLS (degree 5) is 1862.6357 >= 1861.9062 + 0.7295, respectively.\n",
      "--------------------------------------------------\n"
     ]
    }
   ],
   "source": [
    "n_bootstrap = 50\n",
    "k = 10\n",
    "k_folds = KFold(n_splits=k)\n",
    "\n",
    "# --- Creating design matrix\n",
    "p = 5 # highest polynomial degree\n",
    "degrees = np.arange(p+1) # for looping\n",
    "L = [int((d+1)*(d+2)/2) for d in degrees] # beta lengths for plotting later\n",
    "l = L[-1] # greatest beta length\n",
    "\n",
    "# --- Loop\n",
    "MSE_train_OLS, MSE_test_OLS = np.zeros(p), np.zeros(p)\n",
    "R2_train_OLS, R2_test_OLS = np.zeros(p), np.zeros(p)\n",
    "beta_values_OLS = np.zeros((p, l))\n",
    "\n",
    "error_OLS = np.zeros(p)\n",
    "bias_OLS = np.zeros(p)\n",
    "variance_OLS = np.zeros(p)\n",
    "estimated_mse_sklearn_OLS = np.zeros(p)\n",
    "\n",
    "for deg in degrees[1:]: \n",
    "    # Splitting the data \n",
    "    X = np.column_stack((x,y)) # design matrix\n",
    "    X_train, X_test, z_train, z_test = train_test_split(X, z, test_size=0.2, random_state=3)\n",
    "    \n",
    "    pipeline = make_pipeline(\n",
    "            PolynomialFeatures(degree=deg),\n",
    "            StandardScaler(),\n",
    "            LinearRegression())\n",
    "    \n",
    "    # Estimating mse with k-fold on train data\n",
    "    estimated_mse_folds = cross_val_score(estimator=pipeline, X=X_train, y=z_train, scoring='neg_mean_squared_error', cv=k_folds)\n",
    "    estimated_mse_sklearn_OLS[deg-1] = np.mean(np.abs(estimated_mse_folds))\n",
    "    \n",
    "    # --- Fitting our model to our train-dataset and predicting values from both test and train\n",
    "    pipeline.fit(X_train, z_train)\n",
    "    z_tilde = pipeline.predict(X_train)\n",
    "    z_predict = pipeline.predict(X_test)\n",
    "    \n",
    "    # Standard metrics\n",
    "    MSE_train_OLS[deg-1] = mean_squared_error(z_train, z_tilde)\n",
    "    MSE_test_OLS[deg-1] = mean_squared_error(z_test, z_predict)\n",
    "    R2_train_OLS[deg-1] = r2_score(z_train, z_tilde)\n",
    "    R2_test_OLS[deg-1] = r2_score(z_test, z_predict)\n",
    "    print(f\"The k-fold estimated MSE is {estimated_mse_sklearn_OLS[deg-1]:.4f}. The real MSE on the test data was {MSE_test_OLS[deg-1]:.4f}\")\n",
    "\n",
    "    # Retrieving the beta-values\n",
    "    intercept = pipeline.named_steps['linearregression'].intercept_\n",
    "    coefs = pipeline.named_steps['linearregression'].coef_\n",
    "    beta_values_OLS[deg-1, :len(coefs)] = coefs\n",
    "    beta_values_OLS[deg-1, 0] = intercept\n",
    "\n",
    "    # --- Estimating the variance of the best model with bootstrap\n",
    "    z_bootstrap = bootstrap(n_bootstrap, X_train, X_test, z_train, z_test, pipeline)\n",
    "    z_test = z_test.reshape(-1,1) # casting to 2D column\n",
    "    \n",
    "    error_OLS[deg-1] = np.mean( np.mean((z_test - z_bootstrap)**2, axis=1, keepdims=True) )\n",
    "    bias_OLS[deg-1] = np.mean((z_test - np.mean(z_bootstrap, axis=1, keepdims=True))**2)\n",
    "    variance_OLS[deg-1] = np.mean(np.var(z_bootstrap, axis=1, keepdims=True) )\n",
    "    print(rf\"The error, squared bias and variance of OLS (degree {deg}) is {error_OLS[deg-1]:.4f} >= {bias_OLS[deg-1]:.4f} + {variance_OLS[deg-1]:.4f}, respectively.\")\n",
    "    print('-'*50) # separator\n"
   ]
  },
  {
   "cell_type": "markdown",
   "metadata": {},
   "source": [
    "### Plotting the MSE and R2-score"
   ]
  },
  {
   "cell_type": "code",
   "execution_count": 5,
   "metadata": {},
   "outputs": [
    {
     "data": {
      "image/png": "[encoded data removed]",
      "text/plain": [
       "<Figure size 1200x500 with 2 Axes>"
      ]
     },
     "metadata": {},
     "output_type": "display_data"
    }
   ],
   "source": [
    "models = ['Topographical data', 'OLS', 'Ridge', 'Lasso']\n",
    "\n",
    "# Plotting beta coefficients\n",
    "fig, axs = plt.subplots(1,2, figsize=(12, 5), sharex=True)\n",
    "axs = axs.flatten()\n",
    "\n",
    "axs[0].plot(degrees[1:], MSE_train_OLS, 'bo-', label='train')\n",
    "axs[0].plot(degrees[1:], MSE_test_OLS, 'rx--', label='test')\n",
    "axs[0].set_ylabel('MSE')\n",
    "axs[0].legend()\n",
    "\n",
    "axs[1].plot(degrees[1:], R2_train_OLS, 'bo-', label='train')\n",
    "axs[1].plot(degrees[1:], R2_test_OLS, 'rx--', label='test')\n",
    "axs[1].set_ylabel(r'$R^2$-score')\n",
    "axs[1].legend()\n",
    "\n",
    "fig.supxlabel('Polynomial Degree')\n",
    "plt.xticks(list(range(1, 6)))\n",
    "plt.show()"
   ]
  },
  {
   "cell_type": "markdown",
   "metadata": {},
   "source": [
    "## Ridge"
   ]
  },
  {
   "cell_type": "markdown",
   "metadata": {},
   "source": [
    "We estimate the MSE with k-fold cross validation using `cross_val_score` and find the bootstrap estimates for the error, bias and variance for this model for each polynomial degree. The MSE for the test dataset is also calculated."
   ]
  },
  {
   "cell_type": "code",
   "execution_count": 8,
   "metadata": {},
   "outputs": [
    {
     "name": "stdout",
     "output_type": "stream",
     "text": [
      "The k-fold estimated MSE on the best model of degree 1 (lambda = 1.0) is 12256.6898. The real MSE on the test data was 12346.7543\n",
      "The error, squared bias and variance of the best model of degree 1 (lambda = 1.0) is 12347.9601 >= 12346.9742 + 0.9858, respectively.\n",
      "--------------------------------------------------\n",
      "The k-fold estimated MSE on the best model of degree 2 (lambda = 0.01) is 5719.7272. The real MSE on the test data was 5689.9187\n",
      "The error, squared bias and variance of the best model of degree 2 (lambda = 0.01) is 5690.4967 >= 5689.9460 + 0.5507, respectively.\n",
      "--------------------------------------------------\n",
      "The k-fold estimated MSE on the best model of degree 3 (lambda = 0.01) is 3794.6241. The real MSE on the test data was 3751.2170\n",
      "The error, squared bias and variance of the best model of degree 3 (lambda = 0.01) is 3751.9899 >= 3751.3107 + 0.6792, respectively.\n",
      "--------------------------------------------------\n",
      "The k-fold estimated MSE on the best model of degree 4 (lambda = 0.001) is 3505.0854. The real MSE on the test data was 3480.3510\n",
      "The error, squared bias and variance of the best model of degree 4 (lambda = 0.001) is 3481.2781 >= 3480.3017 + 0.9763, respectively.\n",
      "--------------------------------------------------\n",
      "The k-fold estimated MSE on the best model of degree 5 (lambda = 0.0001) is 1878.8693. The real MSE on the test data was 1862.0295\n",
      "The error, squared bias and variance of the best model of degree 5 (lambda = 0.0001) is 1862.8067 >= 1861.9845 + 0.8222, respectively.\n",
      "--------------------------------------------------\n"
     ]
    }
   ],
   "source": [
    "n_bootstrap = 50\n",
    "k = 10\n",
    "k_folds = KFold(n_splits=k)\n",
    "\n",
    "p = 5 # highest polynomial degree minus 1 \n",
    "degrees = np.arange(1, p+1) # for looping and plotting later\n",
    "L = [int((d+1)*(d+2)/2) for d in degrees] # beta lengths\n",
    "l = L[-1] # greatest beta length\n",
    "\n",
    "logmin, logmax, m = -4, 0, 5 # logspace start, end, number of lambda values\n",
    "llambdas = np.logspace(logmin, logmax, m)\n",
    "\n",
    "beta_values_Ridge = np.zeros((p, l+1, m))\n",
    "MSE_train_Ridge, MSE_test_Ridge = np.zeros((p, m)), np.zeros((p, m))\n",
    "R2_train_Ridge, R2_test_Ridge = np.zeros((p, m)), np.zeros((p, m))\n",
    "estimated_mse_sklearn_Ridge = np.empty(p)\n",
    "\n",
    "error_Ridge = np.zeros(p)\n",
    "bias_Ridge = np.zeros(p)\n",
    "variance_Ridge = np.zeros(p)\n",
    "\n",
    "for deg in degrees:\n",
    "    # we stack the values of x and y beside each other\n",
    "    X = np.column_stack((x,y))\n",
    "\n",
    "    X_train, X_test, z_train, z_test = train_test_split(X, z, test_size=0.2, random_state=3)\n",
    "\n",
    "    for j, lmb in enumerate(llambdas):\n",
    "        pipeline = make_pipeline(\n",
    "            PolynomialFeatures(degree=deg),\n",
    "            StandardScaler(),\n",
    "            Ridge(alpha=lmb)\n",
    "            )\n",
    "        estimated_mse_folds = cross_val_score(estimator=pipeline, X=X_train, y=z_train, scoring='neg_mean_squared_error', cv=k_folds)\n",
    "        \n",
    "        # cross_val_score returns an array containing the estimated negative mse for every fold\n",
    "        # taking the mean across all folds gives an estimate of the mse of the model\n",
    "        estimated_mse_sklearn_Ridge[j] = np.mean(np.abs(estimated_mse_folds))\n",
    "\n",
    "        pipeline.fit(X_train,z_train)\n",
    "        z_tilde = pipeline.predict(X_train)\n",
    "        z_predict = pipeline.predict(X_test)\n",
    "        intercept = pipeline.named_steps['ridge'].intercept_\n",
    "        coefs = pipeline.named_steps['ridge'].coef_\n",
    "\n",
    "        # --- Standard measurments for each model\n",
    "        MSE_train_Ridge[deg-1, j], MSE_test_Ridge[deg-1, j] = mean_squared_error(z_tilde, z_train), mean_squared_error(z_predict, z_test)\n",
    "        R2_train_Ridge[deg-1, j], R2_test_Ridge[deg-1, j] = r2_score(z_tilde, z_train), r2_score(z_predict, z_test)\n",
    "\n",
    "        beta_values_Ridge[deg-1, 0, j] = intercept\n",
    "        beta_values_Ridge[deg-1, 1:len(coefs)+1, j] = coefs\n",
    "    \n",
    "    min_mse_idx = np.argmin(estimated_mse_sklearn_Ridge)\n",
    "    best_lmb = llambdas[min_mse_idx]\n",
    "\n",
    "    print(f\"The k-fold estimated MSE on the best model of degree {deg} (lambda = {best_lmb}) is {estimated_mse_sklearn_Ridge[min_mse_idx]:.4f}. The real MSE on the test data was {MSE_test_Ridge[deg-1, min_mse_idx]:.4f}\")\n",
    "    \n",
    "\n",
    "    # --- Estimating the variance of the best model with bootstrap\n",
    "    pipeline = make_pipeline(\n",
    "            PolynomialFeatures(degree=deg),\n",
    "            StandardScaler(),\n",
    "            Ridge(alpha=best_lmb)\n",
    "            )\n",
    "    # --- Estimating the variance of the best model with bootstrap\n",
    "    z_bootstrap = bootstrap(n_bootstrap, X_train, X_test, z_train, z_test, pipeline)\n",
    "    z_test = z_test.reshape(-1,1) # casting to 2D column\n",
    "    \n",
    "    error_Ridge[deg-1] = np.mean( np.mean((z_test - z_bootstrap)**2, axis=1, keepdims=True) )\n",
    "    bias_Ridge[deg-1] = np.mean((z_test - np.mean(z_bootstrap, axis=1, keepdims=True))**2)\n",
    "    variance_Ridge[deg-1] = np.mean(np.var(z_bootstrap, axis=1, keepdims=True) )\n",
    "    print(rf\"The error, squared bias and variance of the best model of degree {deg} (lambda = {best_lmb}) is {error_Ridge[deg-1]:.4f} >= {bias_Ridge[deg-1]:.4f} + {variance_Ridge[deg-1]:.4f}, respectively.\")\n",
    "    print('-'*50) # separator\n"
   ]
  },
  {
   "cell_type": "markdown",
   "metadata": {},
   "source": [
    "# Lasso"
   ]
  },
  {
   "cell_type": "markdown",
   "metadata": {},
   "source": [
    "We estimate the MSE with k-fold cross validation using `cross_val_score` and calculate the error, bias and variance using bootstrapping. The MSE for the test dataset is also calculated."
   ]
  },
  {
   "cell_type": "markdown",
   "metadata": {},
   "source": [
    "Suppresses convergence warnings:"
   ]
  },
  {
   "cell_type": "code",
   "execution_count": 10,
   "metadata": {},
   "outputs": [],
   "source": [
    "import os\n",
    "import warnings\n",
    "import sys\n",
    "\n",
    "if not sys.warnoptions:\n",
    "    warnings.simplefilter(\"ignore\")\n",
    "    os.environ[\"PYTHONWARNINGS\"] = \"ignore\" "
   ]
  },
  {
   "cell_type": "code",
   "execution_count": 12,
   "metadata": {},
   "outputs": [
    {
     "name": "stdout",
     "output_type": "stream",
     "text": [
      "The k-fold estimated MSE on the best model of degree 1 (lambda = 0.0001) is 12256.6898. The real MSE on the test data was 12346.7543\n",
      "The error, squared bias and variance of the best model of degree 1 (lambda = 0.0001) is 12347.7410 >= 12347.0058 + 0.7352, respectively\n",
      "--------------------------------------------------\n",
      "The k-fold estimated MSE on the best model of degree 2 (lambda = 0.0001) is 5719.7272. The real MSE on the test data was 5689.9178\n",
      "The error, squared bias and variance of the best model of degree 2 (lambda = 0.0001) is 5690.4446 >= 5689.9869 + 0.4577, respectively\n",
      "--------------------------------------------------\n",
      "The k-fold estimated MSE on the best model of degree 3 (lambda = 0.0001) is 3803.0801. The real MSE on the test data was 3758.9222\n",
      "The error, squared bias and variance of the best model of degree 3 (lambda = 0.0001) is 3760.0316 >= 3759.2467 + 0.7849, respectively\n",
      "--------------------------------------------------\n",
      "The k-fold estimated MSE on the best model of degree 4 (lambda = 0.0001) is 3836.9390. The real MSE on the test data was 3792.6883\n",
      "The error, squared bias and variance of the best model of degree 4 (lambda = 0.0001) is 3793.9278 >= 3793.0444 + 0.8834, respectively\n",
      "--------------------------------------------------\n",
      "The k-fold estimated MSE on the best model of degree 5 (lambda = 0.0001) is 3690.8914. The real MSE on the test data was 3653.9606\n",
      "The error, squared bias and variance of the best model of degree 5 (lambda = 0.0001) is 3654.1164 >= 3653.3009 + 0.8155, respectively\n",
      "--------------------------------------------------\n"
     ]
    }
   ],
   "source": [
    "n_bootstrap = 50\n",
    "k = 10\n",
    "k_folds = KFold(n_splits=k)\n",
    "\n",
    "p = 5 # highest polynomial degree minus one\n",
    "degrees = np.arange(1, p+1) # for looping and plotting later\n",
    "L = [int((d+1)*(d+2)/2) for d in degrees] # beta lengths\n",
    "l = L[-1] # greatest beta length\n",
    "\n",
    "logmin, logmax, m = -4, 0, 5 # logspace start, end, number of lambda values\n",
    "llambdas = np.logspace(logmin, logmax, m)\n",
    "\n",
    "beta_values_Lasso = np.zeros((p+1, l+1, m))\n",
    "MSE_train_Lasso, MSE_test_Lasso = np.zeros((p, m)), np.zeros((p, m))\n",
    "R2_train_Lasso, R2_test_Lasso = np.zeros((p, m)), np.zeros((p, m))\n",
    "estimated_mse_sklearn_Lasso = np.empty(p)\n",
    "\n",
    "error_Lasso = np.zeros(p)\n",
    "bias_Lasso = np.zeros(p)\n",
    "variance_Lasso = np.zeros(p)\n",
    "\n",
    "for deg in degrees:\n",
    "    # we stack the values of x and y beside each other\n",
    "    X = np.column_stack((x,y))\n",
    "\n",
    "    X_train, X_test, z_train, z_test = train_test_split(X, z, test_size=0.2, random_state=3)\n",
    "\n",
    "    for j, lmb in enumerate(llambdas):\n",
    "        pipeline = make_pipeline(\n",
    "            PolynomialFeatures(degree=deg),\n",
    "            StandardScaler(),\n",
    "            Lasso(alpha=lmb, precompute=True, warm_start=True) # NB! this might take a very long time due to numerical solve... \n",
    "            )\n",
    "        estimated_mse_folds = cross_val_score(estimator=pipeline, X=X_train, y=z_train, scoring='neg_mean_squared_error', cv=k_folds)\n",
    "        \n",
    "        # cross_val_score returns an array containing the estimated negative mse for every fold\n",
    "        # taking the mean across all folds gives an estimate of the mse of the model\n",
    "        estimated_mse_sklearn_Lasso[j] = np.mean(np.abs(estimated_mse_folds))\n",
    "\n",
    "        pipeline.fit(X_train,z_train)\n",
    "        z_tilde = pipeline.predict(X_train)\n",
    "        z_predict = pipeline.predict(X_test)\n",
    "        intercept = pipeline.named_steps['lasso'].intercept_\n",
    "        coefs = pipeline.named_steps['lasso'].coef_\n",
    "\n",
    "        # --- Standard measurments for each model\n",
    "        MSE_train_Lasso[deg-1,j], MSE_test_Lasso[deg-1,j] = mean_squared_error(z_tilde, z_train), mean_squared_error(z_predict, z_test)\n",
    "        R2_train_Lasso[deg-1,j], R2_test_Lasso[deg-1,j] = r2_score(z_train, z_tilde), r2_score(z_test, z_predict)\n",
    "\n",
    "        beta_values_Lasso[deg-1, 0, j] = intercept\n",
    "        beta_values_Lasso[deg-1, 1:len(coefs)+1, j] = coefs\n",
    "    \n",
    "    min_mse_idx = np.argmin(estimated_mse_sklearn_Ridge)\n",
    "    best_lmb = llambdas[min_mse_idx]\n",
    "\n",
    "    print(f\"The k-fold estimated MSE on the best model of degree {deg} (lambda = {best_lmb}) is {estimated_mse_sklearn_Lasso[min_mse_idx]:.4f}. The real MSE on the test data was {MSE_test_Lasso[deg-1, min_mse_idx]:.4f}\")\n",
    "\n",
    "    # --- Estimating the variance of the best model with bootstrap\n",
    "    pipeline = make_pipeline(\n",
    "            PolynomialFeatures(degree=deg),\n",
    "            StandardScaler(),\n",
    "            Lasso(alpha=best_lmb)\n",
    "            )\n",
    "    # --- Estimating the variance of the best model with bootstrap\n",
    "    z_bootstrap = bootstrap(n_bootstrap, X_train, X_test, z_train, z_test, pipeline)\n",
    "    z_test = z_test.reshape(-1,1) # casting to 2D column\n",
    "    \n",
    "    error_Lasso[deg-1] = np.mean( np.mean((z_test - z_bootstrap)**2, axis=1, keepdims=True) )\n",
    "    bias_Lasso[deg-1] = np.mean((z_test - np.mean(z_bootstrap, axis=1, keepdims=True))**2)\n",
    "    variance_Lasso[deg-1] = np.mean(np.var(z_bootstrap, axis=1, keepdims=True) )\n",
    "    print(rf\"The error, squared bias and variance of the best model of degree {deg} (lambda = {best_lmb}) is {error_Lasso[deg-1]:.4f} >= {bias_Lasso[deg-1]:.4f} + {variance_Lasso[deg-1]:.4f}, respectively.\")\n",
    "    print('-'*50) # separator\n"
   ]
  }
 ],
 "metadata": {
  "kernelspec": {
   "display_name": "fysstk3155",
   "language": "python",
   "name": "python3"
  },
  "language_info": {
   "codemirror_mode": {
    "name": "ipython",
    "version": 3
   },
   "file_extension": ".py",
   "mimetype": "text/x-python",
   "name": "python",
   "nbconvert_exporter": "python",
   "pygments_lexer": "ipython3",
   "version": "3.10.13"
  }
 },
 "nbformat": 4,
 "nbformat_minor": 2
}
